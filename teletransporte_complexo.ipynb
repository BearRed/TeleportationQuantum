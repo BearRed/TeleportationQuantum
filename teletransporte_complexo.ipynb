{
 "cells": [
  {
   "cell_type": "code",
   "execution_count": 178,
   "metadata": {},
   "outputs": [
    {
     "data": {
      "text/plain": [
       "<qiskit.circuit.instructionset.InstructionSet at 0x1ef5e097b20>"
      ]
     },
     "execution_count": 178,
     "metadata": {},
     "output_type": "execute_result"
    }
   ],
   "source": [
    "from qiskit import *\n",
    "from numpy import pi\n",
    "circuit = QuantumCircuit(3,3)\n",
    "# QUBIT ORDERING\n",
    "# q0 = State |psi> that we want to teleport\n",
    "# q1 = Alice's half of the Bell pair\n",
    "# q2 = Bob's half of the Bell pair, the destination of the teleportation\n",
    "\n",
    "# ========================\n",
    "# Step 0: Create the state to be teleported in qubit 0\n",
    "circuit.x(0) # qubit 0 is now in state |1>, and this is the state that we want to teleport\n",
    "\n",
    "circuit.barrier() # just a visual aid\n",
    "\n",
    "# ========================\n",
    "# Step 1: create an entangled Bell pair between Alice and Bob (qubits 1 and 2)\n",
    "circuit.h(1)\n",
    "circuit.cx(1,2)\n",
    "\n",
    "circuit.barrier() # just a visual aid\n",
    "\n",
    "# ========================\n",
    "# Step 2: Alice applies a series of operations \n",
    "# between the state to teleport (qubit 0) and her half of the Bell pair (qubit 1)\n",
    "circuit.cx(0,1)\n",
    "circuit.h(0)\n",
    "\n",
    "circuit.barrier() # just a visual aid\n",
    "\n",
    "# ========================\n",
    "# Step 3: Alice measures both qubits 0 and 1\n",
    "circuit.measure([0, 1], [0, 1]) # results stored in classical bits 0 and 1, respectively\n",
    "\n",
    "circuit.barrier() # just a visual aid\n",
    "\n",
    "# ========================\n",
    "# Step 4: Now that Alice has measured the two qubits, their states have collapsed to 0 and 1. \n",
    "# Bob can do operations conditioned on these qubits to his half of the Bell pair\n",
    "# Note that while we're conditioning Bob's operation on the collapsed qubits 0 and 1, we can\n",
    "# do teleportation over long distances by transmitting the classical information in classical bits 0 and 1\n",
    "circuit.cx(1, 2)\n",
    "circuit.cz(0, 2)\n",
    "\n",
    "# Step 5: Done! Measure Bob's qubit to find out what state it is in\n",
    "circuit.measure([2], [2])"
   ]
  },
  {
   "cell_type": "code",
   "execution_count": 179,
   "metadata": {},
   "outputs": [
    {
     "data": {
      "text/html": [
       "<pre style=\"word-wrap: normal;white-space: pre;background: #fff0;line-height: 1.1;font-family: &quot;Courier New&quot;,Courier,monospace\">     ┌───┐ ░            ░      ┌───┐ ░ ┌─┐    ░            \n",
       "q_0: ┤ X ├─░────────────░───■──┤ H ├─░─┤M├────░───────■────\n",
       "     └───┘ ░ ┌───┐      ░ ┌─┴─┐└───┘ ░ └╥┘┌─┐ ░       │    \n",
       "q_1: ──────░─┤ H ├──■───░─┤ X ├──────░──╫─┤M├─░───■───┼────\n",
       "           ░ └───┘┌─┴─┐ ░ └───┘      ░  ║ └╥┘ ░ ┌─┴─┐ │ ┌─┐\n",
       "q_2: ──────░──────┤ X ├─░────────────░──╫──╫──░─┤ X ├─■─┤M├\n",
       "           ░      └───┘ ░            ░  ║  ║  ░ └───┘   └╥┘\n",
       "c: 3/═══════════════════════════════════╩══╩═════════════╩═\n",
       "                                        0  1             2 </pre>"
      ],
      "text/plain": [
       "     ┌───┐ ░            ░      ┌───┐ ░ ┌─┐    ░            \n",
       "q_0: ┤ X ├─░────────────░───■──┤ H ├─░─┤M├────░───────■────\n",
       "     └───┘ ░ ┌───┐      ░ ┌─┴─┐└───┘ ░ └╥┘┌─┐ ░       │    \n",
       "q_1: ──────░─┤ H ├──■───░─┤ X ├──────░──╫─┤M├─░───■───┼────\n",
       "           ░ └───┘┌─┴─┐ ░ └───┘      ░  ║ └╥┘ ░ ┌─┴─┐ │ ┌─┐\n",
       "q_2: ──────░──────┤ X ├─░────────────░──╫──╫──░─┤ X ├─■─┤M├\n",
       "           ░      └───┘ ░            ░  ║  ║  ░ └───┘   └╥┘\n",
       "c: 3/═══════════════════════════════════╩══╩═════════════╩═\n",
       "                                        0  1             2 "
      ]
     },
     "execution_count": 179,
     "metadata": {},
     "output_type": "execute_result"
    }
   ],
   "source": [
    "%matplotlib inline\n",
    "circuit.draw()"
   ]
  },
  {
   "cell_type": "code",
   "execution_count": 180,
   "metadata": {},
   "outputs": [
    {
     "data": {
      "image/png": "[encoded data removed]",
      "text/plain": [
       "<Figure size 504x360 with 1 Axes>"
      ]
     },
     "execution_count": 180,
     "metadata": {},
     "output_type": "execute_result"
    }
   ],
   "source": [
    "simulator = Aer.get_backend('qasm_simulator')\n",
    "result = execute(circuit, backend=simulator, shots=1024).result()\n",
    "from qiskit.visualization import plot_histogram\n",
    "plot_histogram(result.get_counts(circuit))"
   ]
  },
  {
   "cell_type": "code",
   "execution_count": 181,
   "metadata": {},
   "outputs": [
    {
     "name": "stderr",
     "output_type": "stream",
     "text": [
      "C:\\Users\\igor_\\anaconda3\\lib\\site-packages\\qiskit\\visualization\\text.py:659: RuntimeWarning: The parameter \"cregbundle\" was disabled, since an instruction needs to refer to individual classical wires\n",
      "  return \"\\n\".join(self.lines()).encode(self.encoding).decode(self.encoding)\n"
     ]
    },
    {
     "data": {
      "text/html": [
       "<pre style=\"word-wrap: normal;white-space: pre;background: #fff0;line-height: 1.1;font-family: &quot;Courier New&quot;,Courier,monospace\">     ┌──────────────────┐ ░                       ░ ┌──────────────────────┐ ░ »\n",
       "q_0: ┤ create_state_psi ├─░───────────────────────░─┤0                     ├─░─»\n",
       "     └──────────────────┘ ░ ┌───────────────────┐ ░ │  teleportation_Alice │ ░ »\n",
       "q_1: ─────────────────────░─┤0                  ├─░─┤1                     ├─░─»\n",
       "                          ░ │  create_Bell_pair │ ░ └──────────────────────┘ ░ »\n",
       "q_2: ─────────────────────░─┤1                  ├─░──────────────────────────░─»\n",
       "                          ░ └───────────────────┘ ░                          ░ »\n",
       "c_0: ══════════════════════════════════════════════════════════════════════════»\n",
       "                                                                               »\n",
       "c_1: ══════════════════════════════════════════════════════════════════════════»\n",
       "                                                                               »\n",
       "c_2: ══════════════════════════════════════════════════════════════════════════»\n",
       "                                                                               »\n",
       "«     ┌────────────────┐ ░ ┌────────────────────┐ ░      ┌─┐      \n",
       "«q_0: ┤0               ├─░─┤0                   ├─░──────┤M├──────\n",
       "«     │                │ ░ │                    │ ░      └╥┘┌─┐   \n",
       "«q_1: ┤1               ├─░─┤1 teleportation_Bob ├─░───────╫─┤M├───\n",
       "«     │                │ ░ │                    │ ░ ┌───┐ ║ └╥┘┌─┐\n",
       "«q_2: ┤  Alice_measure ├─░─┤2                   ├─░─┤ H ├─╫──╫─┤M├\n",
       "«     │                │ ░ └────────────────────┘ ░ └───┘ ║  ║ └╥┘\n",
       "«c_0: ╡0               ╞══════════════════════════════════╩══╬══╬═\n",
       "«     │                │                                     ║  ║ \n",
       "«c_1: ╡1               ╞═════════════════════════════════════╩══╬═\n",
       "«     └────────────────┘                                        ║ \n",
       "«c_2: ══════════════════════════════════════════════════════════╩═\n",
       "«                                                                 </pre>"
      ],
      "text/plain": [
       "     ┌──────────────────┐ ░                       ░ ┌──────────────────────┐ ░ »\n",
       "q_0: ┤ create_state_psi ├─░───────────────────────░─┤0                     ├─░─»\n",
       "     └──────────────────┘ ░ ┌───────────────────┐ ░ │  teleportation_Alice │ ░ »\n",
       "q_1: ─────────────────────░─┤0                  ├─░─┤1                     ├─░─»\n",
       "                          ░ │  create_Bell_pair │ ░ └──────────────────────┘ ░ »\n",
       "q_2: ─────────────────────░─┤1                  ├─░──────────────────────────░─»\n",
       "                          ░ └───────────────────┘ ░                          ░ »\n",
       "c_0: ══════════════════════════════════════════════════════════════════════════»\n",
       "                                                                               »\n",
       "c_1: ══════════════════════════════════════════════════════════════════════════»\n",
       "                                                                               »\n",
       "c_2: ══════════════════════════════════════════════════════════════════════════»\n",
       "                                                                               »\n",
       "«     ┌────────────────┐ ░ ┌────────────────────┐ ░      ┌─┐      \n",
       "«q_0: ┤0               ├─░─┤0                   ├─░──────┤M├──────\n",
       "«     │                │ ░ │                    │ ░      └╥┘┌─┐   \n",
       "«q_1: ┤1               ├─░─┤1 teleportation_Bob ├─░───────╫─┤M├───\n",
       "«     │                │ ░ │                    │ ░ ┌───┐ ║ └╥┘┌─┐\n",
       "«q_2: ┤  Alice_measure ├─░─┤2                   ├─░─┤ H ├─╫──╫─┤M├\n",
       "«     │                │ ░ └────────────────────┘ ░ └───┘ ║  ║ └╥┘\n",
       "«c_0: ╡0               ╞══════════════════════════════════╩══╬══╬═\n",
       "«     │                │                                     ║  ║ \n",
       "«c_1: ╡1               ╞═════════════════════════════════════╩══╬═\n",
       "«     └────────────────┘                                        ║ \n",
       "«c_2: ══════════════════════════════════════════════════════════╩═\n",
       "«                                                                 "
      ]
     },
     "execution_count": 181,
     "metadata": {},
     "output_type": "execute_result"
    }
   ],
   "source": [
    "def create_state_psi(theta):\n",
    "    # Create a state along the x axis on the x-y plane and then rotate it by angle theta around the z-axis\n",
    "    # theta = 0 => state is exactly along x\n",
    "    # theta = pi/2 => state is exactly along y\n",
    "    create_circuit = QuantumCircuit(1, name='create_state_psi')\n",
    "    create_circuit.h(0)\n",
    "    create_circuit.rz(theta, 0)\n",
    "    return create_circuit\n",
    "\n",
    "def create_Bell_pair():\n",
    "    create_Bell_circuit = QuantumCircuit(2, name='create_Bell_pair')\n",
    "    create_Bell_circuit.h(0)\n",
    "    create_Bell_circuit.cx(0,1)\n",
    "    return create_Bell_circuit\n",
    "\n",
    "def teleportation_Alice():\n",
    "    teleportation_Alice_circuit = QuantumCircuit(2, name='teleportation_Alice')\n",
    "    teleportation_Alice_circuit.cx(0,1)\n",
    "    teleportation_Alice_circuit.h(0)\n",
    "    return teleportation_Alice_circuit\n",
    "\n",
    "def Alice_measure():\n",
    "    Alice_measure_circuit = QuantumCircuit(2, 2, name='Alice_measure')\n",
    "    Alice_measure_circuit.measure([0,1], [0,1])\n",
    "    return Alice_measure_circuit\n",
    "\n",
    "def teleportation_Bob():\n",
    "    teleportation_Bob_circuit = QuantumCircuit(3, name='teleportation_Bob')\n",
    "    teleportation_Bob_circuit.cx(1,2)\n",
    "    teleportation_Bob_circuit.cz(0,2)\n",
    "    return teleportation_Bob_circuit\n",
    "\n",
    "def build_circuit(theta):\n",
    "    circuit = QuantumCircuit(3, 3)\n",
    "    # Step 0: create the state to teleport\n",
    "    circuit.append(create_state_psi(theta).to_instruction(), [0])\n",
    "    circuit.barrier()\n",
    "    # Step 1: create the Bell pair between Alice and Bob's qubits\n",
    "    circuit.append(create_Bell_pair().to_instruction(), [1,2])\n",
    "    circuit.barrier()\n",
    "    # Step 2: Alice applies a series of operations\n",
    "    circuit.append(teleportation_Alice().to_instruction(), [0,1])\n",
    "    circuit.barrier()\n",
    "    # Step 3: Alice measures her two qubits\n",
    "    circuit.append(Alice_measure().to_instruction(), [0,1], [0,1])\n",
    "    circuit.barrier()\n",
    "    # Step 4: Bob applies operations to his qubit depending on Alice's measurement outcomes\n",
    "    circuit.append(teleportation_Bob().to_instruction(), [0,1,2])\n",
    "    circuit.barrier()\n",
    "    # Step 5: Done. Now measure Bob's qubit to be sure that teleportation was successful\n",
    "    circuit.h(2) # note that the Hadamard gate here ensures that we measure in the Hadamard basis instead of z basis\n",
    "    circuit.measure([0,1,2], [0,1,2])\n",
    "    return circuit\n",
    "\n",
    "circuit = build_circuit(0.01)\n",
    "circuit.draw()"
   ]
  },
  {
   "cell_type": "code",
   "execution_count": 182,
   "metadata": {},
   "outputs": [
    {
     "data": {
      "text/html": [
       "<pre style=\"word-wrap: normal;white-space: pre;background: #fff0;line-height: 1.1;font-family: &quot;Courier New&quot;,Courier,monospace\">     ┌───┐┌──────────┐ ░            ░      ┌───┐ ░ ┌─┐    ░          ░ ┌─┐   »\n",
       "q_0: ┤ H ├┤ Rz(0.01) ├─░────────────░───■──┤ H ├─░─┤M├────░───────■──░─┤M├───»\n",
       "     └───┘└──────────┘ ░ ┌───┐      ░ ┌─┴─┐└───┘ ░ └╥┘┌─┐ ░       │  ░ └╥┘┌─┐»\n",
       "q_1: ──────────────────░─┤ H ├──■───░─┤ X ├──────░──╫─┤M├─░───■───┼──░──╫─┤M├»\n",
       "                       ░ └───┘┌─┴─┐ ░ └───┘      ░  ║ └╥┘ ░ ┌─┴─┐ │  ░  ║ └╥┘»\n",
       "q_2: ──────────────────░──────┤ X ├─░────────────░──╫──╫──░─┤ X ├─■──░──╫──╫─»\n",
       "                       ░      └───┘ ░            ░  ║  ║  ░ └───┘    ░  ║  ║ »\n",
       "c: 3/═══════════════════════════════════════════════╩══╩════════════════╩══╩═»\n",
       "                                                    0  1                0  1 »\n",
       "«                   \n",
       "«q_0: ──────────────\n",
       "«                   \n",
       "«q_1: ──────────────\n",
       "«     ┌─────────┐┌─┐\n",
       "«q_2: ┤ U2(0,π) ├┤M├\n",
       "«     └─────────┘└╥┘\n",
       "«c: 3/════════════╩═\n",
       "«                 2 </pre>"
      ],
      "text/plain": [
       "     ┌───┐┌──────────┐ ░            ░      ┌───┐ ░ ┌─┐    ░          ░ ┌─┐   »\n",
       "q_0: ┤ H ├┤ Rz(0.01) ├─░────────────░───■──┤ H ├─░─┤M├────░───────■──░─┤M├───»\n",
       "     └───┘└──────────┘ ░ ┌───┐      ░ ┌─┴─┐└───┘ ░ └╥┘┌─┐ ░       │  ░ └╥┘┌─┐»\n",
       "q_1: ──────────────────░─┤ H ├──■───░─┤ X ├──────░──╫─┤M├─░───■───┼──░──╫─┤M├»\n",
       "                       ░ └───┘┌─┴─┐ ░ └───┘      ░  ║ └╥┘ ░ ┌─┴─┐ │  ░  ║ └╥┘»\n",
       "q_2: ──────────────────░──────┤ X ├─░────────────░──╫──╫──░─┤ X ├─■──░──╫──╫─»\n",
       "                       ░      └───┘ ░            ░  ║  ║  ░ └───┘    ░  ║  ║ »\n",
       "c: 3/═══════════════════════════════════════════════╩══╩════════════════╩══╩═»\n",
       "                                                    0  1                0  1 »\n",
       "«                   \n",
       "«q_0: ──────────────\n",
       "«                   \n",
       "«q_1: ──────────────\n",
       "«     ┌─────────┐┌─┐\n",
       "«q_2: ┤ U2(0,π) ├┤M├\n",
       "«     └─────────┘└╥┘\n",
       "«c: 3/════════════╩═\n",
       "«                 2 "
      ]
     },
     "execution_count": 182,
     "metadata": {},
     "output_type": "execute_result"
    }
   ],
   "source": [
    "circuit.decompose().draw()"
   ]
  },
  {
   "cell_type": "code",
   "execution_count": 183,
   "metadata": {},
   "outputs": [
    {
     "name": "stdout",
     "output_type": "stream",
     "text": [
      "{'011': 242, '000': 259, '010': 272, '001': 251}\n"
     ]
    }
   ],
   "source": [
    "simulator = Aer.get_backend('qasm_simulator')\n",
    "result = execute(circuit, backend=simulator, shots=1024).result()\n",
    "counts = result.get_counts(circuit)\n",
    "print(counts)\n",
    "num_c2_zero = sum(counts[c2c1c0] for c2c1c0 in counts if c2c1c0[0] == '0')"
   ]
  },
  {
   "cell_type": "code",
   "execution_count": 184,
   "metadata": {},
   "outputs": [
    {
     "data": {
      "image/png": "[encoded data removed]",
      "text/plain": [
       "<Figure size 432x288 with 1 Axes>"
      ]
     },
     "metadata": {
      "needs_background": "light"
     },
     "output_type": "display_data"
    }
   ],
   "source": [
    "import numpy as np\n",
    "thetas = np.arange(0, 4*np.pi, np.pi/16)\n",
    "\n",
    "simulator = Aer.get_backend('qasm_simulator')\n",
    "\n",
    "percent_ones = []\n",
    "\n",
    "for theta in thetas:\n",
    "    circuit = build_circuit(theta)\n",
    "    result = execute(circuit, backend=simulator, shots=1024).result()\n",
    "    counts = result.get_counts(circuit)\n",
    "    num_c2_ones = sum(counts[c2c1c0] for c2c1c0 in counts if c2c1c0[0] == '1')\n",
    "    percent_ones.append(num_c2_ones*100./1024)\n",
    "    \n",
    "import matplotlib.pyplot as plotter\n",
    "plotter.plot(thetas, percent_ones)\n",
    "plotter.xlabel('Initial angle, theta (radians)')\n",
    "plotter.ylabel('Percentage of 1 counts')\n",
    "plotter.show()"
   ]
  },
  {
   "cell_type": "code",
   "execution_count": 196,
   "metadata": {},
   "outputs": [],
   "source": [
    "# build circuits\n",
    "thetas = np.arange(0, 4*np.pi, np.pi/16)\n",
    "\n",
    "circuits = []\n",
    "for theta in thetas:\n",
    "    circuit = build_circuit(theta)\n",
    "    circuits.append(circuit)"
   ]
  },
  {
   "cell_type": "code",
   "execution_count": 197,
   "metadata": {},
   "outputs": [],
   "source": [
    "IBMQ.save_account('5e5a282c7335080696213400d67343226dfc504a12bc208d2fdb6d0021666f01567321c818b5df5bab17eb4319d8a89ba5c93f6d6e547f8f2835515b94df058e',overwrite=True)"
   ]
  },
  {
   "cell_type": "code",
   "execution_count": 201,
   "metadata": {},
   "outputs": [
    {
     "name": "stderr",
     "output_type": "stream",
     "text": [
      "ibmqfactory.load_account:WARNING:2021-10-18 23:34:21,521: Credentials are already in use. The existing account in the session will be replaced.\n",
      "C:\\Users\\igor_\\anaconda3\\lib\\site-packages\\qiskit\\execute_function.py:399: UserWarning: int is not a recognized runtime option and may be ignored by the backend.\n",
      "  job = backend.run(experiments, **run_kwargs)\n"
     ]
    },
    {
     "name": "stdout",
     "output_type": "stream",
     "text": [
      "616e2eb4bf409efa4ca4a717\n",
      "Job Status: job has successfully run\n"
     ]
    }
   ],
   "source": [
    "IBMQ.load_account()\n",
    "provider = IBMQ.get_provider('ibm-q')\n",
    "Qcomp = provider.get_backend('ibmq_lima')\n",
    "\n",
    "\n",
    "job = execute(circuits, backend=Qcomp, shots=512, int=[6,8,7])\n",
    "print(job.job_id())\n",
    "from qiskit.tools.monitor import job_monitor\n",
    "job_monitor(job)"
   ]
  },
  {
   "cell_type": "code",
   "execution_count": 202,
   "metadata": {},
   "outputs": [],
   "source": [
    "simresult = execute(circuits, backend=simulator, shots=512).result()"
   ]
  },
  {
   "cell_type": "code",
   "execution_count": 204,
   "metadata": {},
   "outputs": [
    {
     "data": {
      "image/png": "[encoded data removed]",
      "text/plain": [
       "<Figure size 432x288 with 1 Axes>"
      ]
     },
     "metadata": {
      "needs_background": "light"
     },
     "output_type": "display_data"
    }
   ],
   "source": [
    "result = job.result()\n",
    "\n",
    "percent_ones = []\n",
    "for circuit in circuits:\n",
    "    thiscircuit_counts = result.get_counts(circuit)\n",
    "    num_c2_ones = sum(thiscircuit_counts[c2c1c0] for c2c1c0 in thiscircuit_counts if c2c1c0[0] == '1')\n",
    "    percent_ones.append(num_c2_ones*100./512)\n",
    "    \n",
    "percent_ones_sim = []\n",
    "for circuit in circuits:\n",
    "    thiscircuit_counts = simresult.get_counts(circuit)\n",
    "    num_c2_ones = sum(thiscircuit_counts[c2c1c0] for c2c1c0 in thiscircuit_counts if c2c1c0[0] == '1')\n",
    "    percent_ones_sim.append(num_c2_ones*100./512)\n",
    "    \n",
    "\n",
    "plotter.plot(thetas, percent_ones, 'r.', label='Real device')\n",
    "plotter.plot(thetas, percent_ones_sim, 'k', label='Simulator')\n",
    "plotter.xlabel('Initial angle, theta (radians)')\n",
    "plotter.ylabel('Percentage of 1 counts')\n",
    "plotter.legend()\n",
    "plotter.show()"
   ]
  },
  {
   "cell_type": "code",
   "execution_count": 205,
   "metadata": {},
   "outputs": [
    {
     "data": {
      "text/html": [
       "<pre style=\"word-wrap: normal;white-space: pre;background: #fff0;line-height: 1.1;font-family: &quot;Courier New&quot;,Courier,monospace\">          ┌───┐┌───────┐ ░            ░      ┌───┐ ░ ┌─┐    ░                ░ »\n",
       "q39344_0: ┤ H ├┤ Rz(0) ├─░────────────░───■──┤ H ├─░─┤M├────░────────────────░─»\n",
       "          └───┘└───────┘ ░ ┌───┐      ░ ┌─┴─┐└───┘ ░ └╥┘┌─┐ ░                ░ »\n",
       "q39344_1: ───────────────░─┤ H ├──■───░─┤ X ├──────░──╫─┤M├─░────────────────░─»\n",
       "                         ░ └───┘┌─┴─┐ ░ └───┘      ░  ║ └╥┘ ░  ┌───┐  ┌───┐  ░ »\n",
       "q39344_2: ───────────────░──────┤ X ├─░────────────░──╫──╫──░──┤ X ├──┤ Z ├──░─»\n",
       "                         ░      └───┘ ░            ░  ║  ║  ░  └─╥─┘  └─╥─┘  ░ »\n",
       "                                                      ║  ║       ║   ┌──╨──┐   »\n",
       "    c0: 1/════════════════════════════════════════════╩══╬═══════╬═══╡ = 1 ╞═══»\n",
       "                                                      0  ║    ┌──╨──┐└─────┘   »\n",
       "    c1: 1/═══════════════════════════════════════════════╩════╡ = 1 ╞══════════»\n",
       "                                                         0    └─────┘          »\n",
       "    c2: 1/═════════════════════════════════════════════════════════════════════»\n",
       "                                                                               »\n",
       "«                  \n",
       "«q39344_0: ────────\n",
       "«                  \n",
       "«q39344_1: ────────\n",
       "«          ┌───┐┌─┐\n",
       "«q39344_2: ┤ H ├┤M├\n",
       "«          └───┘└╥┘\n",
       "«    c0: 1/══════╬═\n",
       "«                ║ \n",
       "«    c1: 1/══════╬═\n",
       "«                ║ \n",
       "«    c2: 1/══════╩═\n",
       "«                0 </pre>"
      ],
      "text/plain": [
       "          ┌───┐┌───────┐ ░            ░      ┌───┐ ░ ┌─┐    ░                ░ »\n",
       "q39344_0: ┤ H ├┤ Rz(0) ├─░────────────░───■──┤ H ├─░─┤M├────░────────────────░─»\n",
       "          └───┘└───────┘ ░ ┌───┐      ░ ┌─┴─┐└───┘ ░ └╥┘┌─┐ ░                ░ »\n",
       "q39344_1: ───────────────░─┤ H ├──■───░─┤ X ├──────░──╫─┤M├─░────────────────░─»\n",
       "                         ░ └───┘┌─┴─┐ ░ └───┘      ░  ║ └╥┘ ░  ┌───┐  ┌───┐  ░ »\n",
       "q39344_2: ───────────────░──────┤ X ├─░────────────░──╫──╫──░──┤ X ├──┤ Z ├──░─»\n",
       "                         ░      └───┘ ░            ░  ║  ║  ░  └─╥─┘  └─╥─┘  ░ »\n",
       "                                                      ║  ║       ║   ┌──╨──┐   »\n",
       "    c0: 1/════════════════════════════════════════════╩══╬═══════╬═══╡ = 1 ╞═══»\n",
       "                                                      0  ║    ┌──╨──┐└─────┘   »\n",
       "    c1: 1/═══════════════════════════════════════════════╩════╡ = 1 ╞══════════»\n",
       "                                                         0    └─────┘          »\n",
       "    c2: 1/═════════════════════════════════════════════════════════════════════»\n",
       "                                                                               »\n",
       "«                  \n",
       "«q39344_0: ────────\n",
       "«                  \n",
       "«q39344_1: ────────\n",
       "«          ┌───┐┌─┐\n",
       "«q39344_2: ┤ H ├┤M├\n",
       "«          └───┘└╥┘\n",
       "«    c0: 1/══════╬═\n",
       "«                ║ \n",
       "«    c1: 1/══════╬═\n",
       "«                ║ \n",
       "«    c2: 1/══════╩═\n",
       "«                0 "
      ]
     },
     "execution_count": 205,
     "metadata": {},
     "output_type": "execute_result"
    }
   ],
   "source": [
    "thetas = np.arange(0, 4*np.pi, np.pi/16)\n",
    "circuits_classicalcontrol = []\n",
    "for theta in thetas:\n",
    "    cr1 = ClassicalRegister(1)\n",
    "    cr2 = ClassicalRegister(1)\n",
    "    cr3 = ClassicalRegister(1)\n",
    "    qr = QuantumRegister(3)\n",
    "    circuit = QuantumCircuit(qr, cr1, cr2, cr3)\n",
    "\n",
    "    # ========================\n",
    "    # Step 0: Create the state to be teleported in qubit 0\n",
    "    circuit.h(0)\n",
    "    circuit.rz(theta, 0)\n",
    "    circuit.barrier()\n",
    "    # ========================\n",
    "    # Step 1: create an entangled Bell pair between Alice and Bob (qubits 1 and 2)\n",
    "    circuit.h(1)\n",
    "    circuit.cx(1,2)\n",
    "    circuit.barrier()\n",
    "    # ========================\n",
    "    # Step 2: Alice applies a series of operations \n",
    "    # between the state to teleport (qubit 0) and her half of the Bell pair (qubit 1)\n",
    "    circuit.cx(0,1)\n",
    "    circuit.h(0)\n",
    "    circuit.barrier()\n",
    "    # ========================\n",
    "    # Step 3: Alice measures both qubits 0 and 1\n",
    "    circuit.measure([0, 1], [0, 1]) # results stored in classical bits 0 and 1, respectively\n",
    "    circuit.barrier()\n",
    "    # ========================\n",
    "    # Step 4: Now that Alice has measured the two qubits, their states have collapsed to 0 and 1. \n",
    "    # Use the classical bits from Alice's measurements to do operations on Bob's half of the Bell pair\n",
    "    circuit.x(2).c_if(cr2, 1)\n",
    "    circuit.z(2).c_if(cr1, 1)\n",
    "    circuit.barrier()\n",
    "    # Step 5: Done! Measure Bob's qubit in the Hadamard basis to find out what state it is in\n",
    "    circuit.h(2)\n",
    "    circuit.measure([2], [2])\n",
    "    \n",
    "    circuits_classicalcontrol.append(circuit)\n",
    "    \n",
    "circuits_classicalcontrol[0].draw()"
   ]
  },
  {
   "cell_type": "code",
   "execution_count": 206,
   "metadata": {},
   "outputs": [
    {
     "data": {
      "image/png": "[encoded data removed]",
      "text/plain": [
       "<Figure size 432x288 with 1 Axes>"
      ]
     },
     "metadata": {
      "needs_background": "light"
     },
     "output_type": "display_data"
    }
   ],
   "source": [
    "\n",
    "simulator = Aer.get_backend('qasm_simulator')\n",
    "simresult_classicalcontrol = execute(circuits_classicalcontrol, backend=simulator, shots=512).result()\n",
    "\n",
    "percent_ones_sim = []\n",
    "for ii in range(len((circuits))):\n",
    "    thiscircuit_counts = simresult_classicalcontrol.get_counts(ii)\n",
    "    num_c2_ones = sum(thiscircuit_counts[c2c1c0] for c2c1c0 in thiscircuit_counts if c2c1c0[0] == '1')\n",
    "    percent_ones_sim.append(num_c2_ones*100./512)\n",
    "    \n",
    "plotter.plot(thetas, percent_ones_sim, 'k', label='Simulator')\n",
    "plotter.xlabel('Initial angle, theta (radians)')\n",
    "plotter.ylabel('Percentage of 1 counts')\n",
    "plotter.legend()\n",
    "plotter.show()"
   ]
  }
 ],
 "metadata": {
  "interpreter": {
   "hash": "8c1380816c2a71d7156dee829623bef5762b732a0f68a53edc9b98e694bfe609"
  },
  "kernelspec": {
   "display_name": "Python 3.8.8 64-bit ('base': conda)",
   "name": "python3"
  },
  "language_info": {
   "codemirror_mode": {
    "name": "ipython",
    "version": 3
   },
   "file_extension": ".py",
   "mimetype": "text/x-python",
   "name": "python",
   "nbconvert_exporter": "python",
   "pygments_lexer": "ipython3",
   "version": "3.8.8"
  },
  "orig_nbformat": 4
 },
 "nbformat": 4,
 "nbformat_minor": 2
}
